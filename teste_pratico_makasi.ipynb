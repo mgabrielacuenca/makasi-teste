{
  "cells": [
    {
      "cell_type": "code",
      "execution_count": 10,
      "metadata": {
        "id": "-hYgFTHBdC7Y"
      },
      "outputs": [],
      "source": [
        "import pandas as pd\n",
        "import matplotlib.pyplot as plt"
      ]
    },
    {
      "cell_type": "markdown",
      "metadata": {
        "id": "sSprFBPidC7Z"
      },
      "source": [
        "# Lendo os arquivos de dados"
      ]
    },
    {
      "cell_type": "code",
      "execution_count": 6,
      "metadata": {
        "id": "7wiNOhLCdC7Z"
      },
      "outputs": [],
      "source": [
        "data_forms = pd.read_csv(\"construction_data_forms.csv\")\n",
        "data_tasks = pd.read_csv(\"construction_data_tasks.csv\")"
      ]
    },
    {
      "cell_type": "markdown",
      "metadata": {
        "id": "kZtoOL_EdC7Z"
      },
      "source": [
        "# Entendendo os conjuntos de dados\n",
        "\n",
        "\n"
      ]
    },
    {
      "cell_type": "code",
      "execution_count": null,
      "metadata": {
        "colab": {
          "base_uri": "https://localhost:8080/"
        },
        "id": "QrrHIwJCdC7a",
        "outputId": "6e7f45c8-8bf7-4743-8528-94b1004fdbcd"
      },
      "outputs": [
        {
          "name": "stdout",
          "output_type": "stream",
          "text": [
            "(10254, 17)\n",
            "(12424, 19)\n"
          ]
        }
      ],
      "source": [
        "print(data_forms.shape)\n",
        "print(data_tasks.shape)"
      ]
    },
    {
      "cell_type": "code",
      "execution_count": null,
      "metadata": {
        "colab": {
          "base_uri": "https://localhost:8080/"
        },
        "id": "qjJ5wMjH_a_m",
        "outputId": "6bd20e6f-3a9d-4340-87f7-a8dfd7cc4d9b"
      },
      "outputs": [
        {
          "name": "stdout",
          "output_type": "stream",
          "text": [
            "<class 'pandas.core.frame.DataFrame'>\n",
            "RangeIndex: 10254 entries, 0 to 10253\n",
            "Data columns (total 17 columns):\n",
            " #   Column               Non-Null Count  Dtype \n",
            "---  ------               --------------  ----- \n",
            " 0   Ref                  10254 non-null  object\n",
            " 1   Status               10254 non-null  object\n",
            " 2   Location             10254 non-null  object\n",
            " 3   Name                 10254 non-null  object\n",
            " 4   Created              10254 non-null  object\n",
            " 5   Type                 10254 non-null  object\n",
            " 6   Status Changed       10254 non-null  object\n",
            " 7   Open Actions         10254 non-null  int64 \n",
            " 8   Total Actions        10254 non-null  int64 \n",
            " 9   Association          2098 non-null   object\n",
            " 10  OverDue              10254 non-null  bool  \n",
            " 11  Images               10254 non-null  bool  \n",
            " 12  Comments             10254 non-null  bool  \n",
            " 13  Documents            9450 non-null   object\n",
            " 14  Project              10254 non-null  int64 \n",
            " 15  Report Forms Status  10252 non-null  object\n",
            " 16  Report Forms Group   10250 non-null  object\n",
            "dtypes: bool(3), int64(3), object(11)\n",
            "memory usage: 1.1+ MB\n"
          ]
        }
      ],
      "source": [
        "data_forms.info()"
      ]
    },
    {
      "cell_type": "markdown",
      "metadata": {
        "id": "_rIOXqCWCuXN"
      },
      "source": [
        "**células nulas - forms**\n",
        "- Association 2098\n",
        "- Documents 9450"
      ]
    },
    {
      "cell_type": "markdown",
      "metadata": {
        "id": "KiAfIDwYEkDj"
      },
      "source": [
        "### dados nulos do forms"
      ]
    },
    {
      "cell_type": "code",
      "execution_count": null,
      "metadata": {
        "colab": {
          "base_uri": "https://localhost:8080/"
        },
        "id": "ItG0Xs9LEm5r",
        "outputId": "d4ce18c0-adde-4834-a080-b573a231f0e3"
      },
      "outputs": [
        {
          "data": {
            "text/plain": [
              "NaN       8156\n",
              "parent    1702\n",
              "child      396\n",
              "Name: Association, dtype: int64"
            ]
          },
          "execution_count": 14,
          "metadata": {},
          "output_type": "execute_result"
        }
      ],
      "source": [
        "data_forms['Association'].value_counts(dropna=False)"
      ]
    },
    {
      "cell_type": "code",
      "execution_count": null,
      "metadata": {
        "colab": {
          "base_uri": "https://localhost:8080/"
        },
        "id": "HFfXsxQ0EwYD",
        "outputId": "89f3b4c7-5604-4985-ca39-b4158f7c0f92"
      },
      "outputs": [
        {
          "data": {
            "text/plain": [
              "False    8370\n",
              "True     1080\n",
              "NaN       804\n",
              "Name: Documents, dtype: int64"
            ]
          },
          "execution_count": 15,
          "metadata": {},
          "output_type": "execute_result"
        }
      ],
      "source": [
        "data_forms['Documents'].value_counts(dropna=False)"
      ]
    },
    {
      "cell_type": "markdown",
      "metadata": {
        "id": "Ng8JBcThEnYD"
      },
      "source": [
        "---"
      ]
    },
    {
      "cell_type": "code",
      "execution_count": null,
      "metadata": {
        "colab": {
          "base_uri": "https://localhost:8080/"
        },
        "id": "j_5iylw3CJ1u",
        "outputId": "c9a1bc37-e53f-4f72-fd7f-4bc51729c1eb"
      },
      "outputs": [
        {
          "name": "stdout",
          "output_type": "stream",
          "text": [
            "<class 'pandas.core.frame.DataFrame'>\n",
            "RangeIndex: 12424 entries, 0 to 12423\n",
            "Data columns (total 19 columns):\n",
            " #   Column          Non-Null Count  Dtype  \n",
            "---  ------          --------------  -----  \n",
            " 0   Ref             12424 non-null  object \n",
            " 1   Status          12424 non-null  object \n",
            " 2   Location        12424 non-null  object \n",
            " 3   Description     12424 non-null  object \n",
            " 4   Created         12424 non-null  object \n",
            " 5   Target          2568 non-null   float64\n",
            " 6   Type            12424 non-null  object \n",
            " 7   To Package      11382 non-null  object \n",
            " 8   Status Changed  12424 non-null  object \n",
            " 9   Association     9483 non-null   object \n",
            " 10  OverDue         12424 non-null  bool   \n",
            " 11  Images          12272 non-null  object \n",
            " 12  Comments        11902 non-null  object \n",
            " 13  Documents       11780 non-null  object \n",
            " 14  Priority        2366 non-null   object \n",
            " 15  Cause           9683 non-null   object \n",
            " 16  project         12424 non-null  int64  \n",
            " 17  Report Status   12424 non-null  object \n",
            " 18  Task Group      12374 non-null  object \n",
            "dtypes: bool(1), float64(1), int64(1), object(16)\n",
            "memory usage: 1.7+ MB\n"
          ]
        }
      ],
      "source": [
        "data_tasks.info()"
      ]
    },
    {
      "cell_type": "markdown",
      "metadata": {
        "id": "nZL_uEuZDADX"
      },
      "source": [
        "**celulas nulas**\n",
        "- target 2568\n",
        "- Association 9483\n",
        "- Priority 2366\n",
        "- Cause 9683\n",
        "- Task Group 12374\n",
        "- Documents 11780\n",
        "- comments 11902\n",
        "[...]"
      ]
    },
    {
      "cell_type": "code",
      "execution_count": null,
      "metadata": {
        "colab": {
          "base_uri": "https://localhost:8080/"
        },
        "id": "DThpI3VWRK0H",
        "outputId": "c59e310d-d16a-40ed-aa2d-74a881e1dd3d"
      },
      "outputs": [
        {
          "data": {
            "text/plain": [
              "Site Management              2984\n",
              "Safety Forms                 2141\n",
              "Quality 01 Structural        1729\n",
              "Quality 02 Architectural     1417\n",
              "Quality 00 General           1165\n",
              "Subcontractor Inspections     466\n",
              "Design Team / BC(A)R          145\n",
              "Quality 04 MEP Services       108\n",
              "Quality 03 Civil               39\n",
              "BU - Head Office               31\n",
              "Inspection                     23\n",
              "00 Project Management           4\n",
              "Permits                         2\n",
              "Name: Type, dtype: int64"
            ]
          },
          "execution_count": 39,
          "metadata": {},
          "output_type": "execute_result"
        }
      ],
      "source": [
        "data_forms['Type'].value_counts(dropna=False)"
      ]
    },
    {
      "cell_type": "code",
      "execution_count": null,
      "metadata": {
        "colab": {
          "base_uri": "https://localhost:8080/"
        },
        "id": "x6Sm7C9KUAPh",
        "outputId": "b3f94ef1-1e69-4593-adfa-5d034fd9d895"
      },
      "outputs": [
        {
          "data": {
            "text/plain": [
              "NaN                                                                 10058\n",
              "Behavioural Failure                                                   951\n",
              "System Failure                                                        787\n",
              "Medium                                                                221\n",
              "High                                                                  214\n",
              "Best Practice                                                          83\n",
              "System Failure - Deviation from RAMS / Manufacturer Instructions       31\n",
              "Low                                                                    29\n",
              ".                                                                      27\n",
              "2 Week Look Ahead                                                      13\n",
              "Low (resolve within 2 weeks)                                            3\n",
              "Medium (resolve within 5 days)                                          2\n",
              "High (resolve within 48 hours)                                          2\n",
              "1 Week Look Ahead                                                       2\n",
              "1 Month Look Ahead                                                      1\n",
              "Name: Priority, dtype: int64"
            ]
          },
          "execution_count": 44,
          "metadata": {},
          "output_type": "execute_result"
        }
      ],
      "source": [
        "data_tasks['Priority'].value_counts(dropna=False)"
      ]
    },
    {
      "cell_type": "code",
      "execution_count": null,
      "metadata": {
        "colab": {
          "base_uri": "https://localhost:8080/"
        },
        "id": "LEi6tXWDQeH5",
        "outputId": "d4c9c26d-ef46-4138-e8ae-502e1902a64e"
      },
      "outputs": [
        {
          "data": {
            "text/plain": [
              "Safety             8884\n",
              "Site Management    1420\n",
              "Design Team        1139\n",
              "Quality             931\n",
              "NaN                  50\n",
              "Name: Task Group, dtype: int64"
            ]
          },
          "execution_count": 38,
          "metadata": {},
          "output_type": "execute_result"
        }
      ],
      "source": [
        "data_tasks['Task Group'].value_counts(dropna=False)"
      ]
    },
    {
      "cell_type": "markdown",
      "metadata": {
        "id": "Oys4WmZxdC7a"
      },
      "source": [
        "# Visualizando as primeiras linhas dos conjuntos de dados"
      ]
    },
    {
      "cell_type": "code",
      "execution_count": null,
      "metadata": {
        "colab": {
          "base_uri": "https://localhost:8080/",
          "height": 398
        },
        "id": "zp_Owg8PCr-a",
        "outputId": "0c673f28-cde7-4762-952c-87959085399f"
      },
      "outputs": [
        {
          "data": {
            "text/html": [
              "\n",
              "\n",
              "  <div id=\"df-bc3f10eb-b827-49e4-9eb8-ccd914fb4de3\">\n",
              "    <div class=\"colab-df-container\">\n",
              "      <div>\n",
              "<style scoped>\n",
              "    .dataframe tbody tr th:only-of-type {\n",
              "        vertical-align: middle;\n",
              "    }\n",
              "\n",
              "    .dataframe tbody tr th {\n",
              "        vertical-align: top;\n",
              "    }\n",
              "\n",
              "    .dataframe thead th {\n",
              "        text-align: right;\n",
              "    }\n",
              "</style>\n",
              "<table border=\"1\" class=\"dataframe\">\n",
              "  <thead>\n",
              "    <tr style=\"text-align: right;\">\n",
              "      <th></th>\n",
              "      <th>Ref</th>\n",
              "      <th>Status</th>\n",
              "      <th>Location</th>\n",
              "      <th>Description</th>\n",
              "      <th>Created</th>\n",
              "      <th>Target</th>\n",
              "      <th>Type</th>\n",
              "      <th>To Package</th>\n",
              "      <th>Status Changed</th>\n",
              "      <th>Association</th>\n",
              "      <th>OverDue</th>\n",
              "      <th>Images</th>\n",
              "      <th>Comments</th>\n",
              "      <th>Documents</th>\n",
              "      <th>Priority</th>\n",
              "      <th>Cause</th>\n",
              "      <th>project</th>\n",
              "      <th>Report Status</th>\n",
              "      <th>Task Group</th>\n",
              "    </tr>\n",
              "  </thead>\n",
              "  <tbody>\n",
              "    <tr>\n",
              "      <th>0</th>\n",
              "      <td>T1.23963030</td>\n",
              "      <td>Open</td>\n",
              "      <td>JPC Project Management&gt;EHS Management&gt;01 Inspe...</td>\n",
              "      <td>task raised in incorrect location of this form...</td>\n",
              "      <td>14/09/2020</td>\n",
              "      <td>NaN</td>\n",
              "      <td>Safety Notice (Amber) - General Issue</td>\n",
              "      <td>Main Contractor</td>\n",
              "      <td>14/09/2020</td>\n",
              "      <td>FormAnswer</td>\n",
              "      <td>False</td>\n",
              "      <td>NaN</td>\n",
              "      <td>NaN</td>\n",
              "      <td>NaN</td>\n",
              "      <td>Behavioural Failure</td>\n",
              "      <td>JPC - Safety - Documentation</td>\n",
              "      <td>1328</td>\n",
              "      <td>Open</td>\n",
              "      <td>Safety</td>\n",
              "    </tr>\n",
              "    <tr>\n",
              "      <th>1</th>\n",
              "      <td>T116412.200</td>\n",
              "      <td>Closed</td>\n",
              "      <td>QC &amp; BC(A)R&gt;ITP 02 Architectural &amp; M&amp;E Service...</td>\n",
              "      <td>Metsec</td>\n",
              "      <td>14/09/2020</td>\n",
              "      <td>NaN</td>\n",
              "      <td>JPC - Progress Photo</td>\n",
              "      <td>Ceilings &amp; Partitions</td>\n",
              "      <td>14/09/2020</td>\n",
              "      <td>NaN</td>\n",
              "      <td>False</td>\n",
              "      <td>True</td>\n",
              "      <td>False</td>\n",
              "      <td>False</td>\n",
              "      <td>NaN</td>\n",
              "      <td>NaN</td>\n",
              "      <td>1328</td>\n",
              "      <td>Closed</td>\n",
              "      <td>Site Management</td>\n",
              "    </tr>\n",
              "    <tr>\n",
              "      <th>2</th>\n",
              "      <td>T141663.27</td>\n",
              "      <td>EHS Good Observation</td>\n",
              "      <td>JPC Project Management&gt;EHS Management&gt;01 Inspe...</td>\n",
              "      <td>Good clear exclusion zones and access through ...</td>\n",
              "      <td>14/09/2020</td>\n",
              "      <td>NaN</td>\n",
              "      <td>Safety Notice (Green) - Good Observation</td>\n",
              "      <td>Main Contractor</td>\n",
              "      <td>14/09/2020</td>\n",
              "      <td>FormAnswer</td>\n",
              "      <td>False</td>\n",
              "      <td>True</td>\n",
              "      <td>False</td>\n",
              "      <td>False</td>\n",
              "      <td>NaN</td>\n",
              "      <td>JPC - Safety - Access</td>\n",
              "      <td>1328</td>\n",
              "      <td>Closed</td>\n",
              "      <td>Safety</td>\n",
              "    </tr>\n",
              "  </tbody>\n",
              "</table>\n",
              "</div>\n",
              "      <button class=\"colab-df-convert\" onclick=\"convertToInteractive('df-bc3f10eb-b827-49e4-9eb8-ccd914fb4de3')\"\n",
              "              title=\"Convert this dataframe to an interactive table.\"\n",
              "              style=\"display:none;\">\n",
              "\n",
              "  <svg xmlns=\"http://www.w3.org/2000/svg\" height=\"24px\"viewBox=\"0 0 24 24\"\n",
              "       width=\"24px\">\n",
              "    <path d=\"M0 0h24v24H0V0z\" fill=\"none\"/>\n",
              "    <path d=\"M18.56 5.44l.94 2.06.94-2.06 2.06-.94-2.06-.94-.94-2.06-.94 2.06-2.06.94zm-11 1L8.5 8.5l.94-2.06 2.06-.94-2.06-.94L8.5 2.5l-.94 2.06-2.06.94zm10 10l.94 2.06.94-2.06 2.06-.94-2.06-.94-.94-2.06-.94 2.06-2.06.94z\"/><path d=\"M17.41 7.96l-1.37-1.37c-.4-.4-.92-.59-1.43-.59-.52 0-1.04.2-1.43.59L10.3 9.45l-7.72 7.72c-.78.78-.78 2.05 0 2.83L4 21.41c.39.39.9.59 1.41.59.51 0 1.02-.2 1.41-.59l7.78-7.78 2.81-2.81c.8-.78.8-2.07 0-2.86zM5.41 20L4 18.59l7.72-7.72 1.47 1.35L5.41 20z\"/>\n",
              "  </svg>\n",
              "      </button>\n",
              "\n",
              "\n",
              "\n",
              "    <div id=\"df-682bf0ce-e4aa-4fce-ab9e-fcb0aa9c8cb4\">\n",
              "      <button class=\"colab-df-quickchart\" onclick=\"quickchart('df-682bf0ce-e4aa-4fce-ab9e-fcb0aa9c8cb4')\"\n",
              "              title=\"Suggest charts.\"\n",
              "              style=\"display:none;\">\n",
              "\n",
              "<svg xmlns=\"http://www.w3.org/2000/svg\" height=\"24px\"viewBox=\"0 0 24 24\"\n",
              "     width=\"24px\">\n",
              "    <g>\n",
              "        <path d=\"M19 3H5c-1.1 0-2 .9-2 2v14c0 1.1.9 2 2 2h14c1.1 0 2-.9 2-2V5c0-1.1-.9-2-2-2zM9 17H7v-7h2v7zm4 0h-2V7h2v10zm4 0h-2v-4h2v4z\"/>\n",
              "    </g>\n",
              "</svg>\n",
              "      </button>\n",
              "    </div>\n",
              "\n",
              "<style>\n",
              "  .colab-df-quickchart {\n",
              "    background-color: #E8F0FE;\n",
              "    border: none;\n",
              "    border-radius: 50%;\n",
              "    cursor: pointer;\n",
              "    display: none;\n",
              "    fill: #1967D2;\n",
              "    height: 32px;\n",
              "    padding: 0 0 0 0;\n",
              "    width: 32px;\n",
              "  }\n",
              "\n",
              "  .colab-df-quickchart:hover {\n",
              "    background-color: #E2EBFA;\n",
              "    box-shadow: 0px 1px 2px rgba(60, 64, 67, 0.3), 0px 1px 3px 1px rgba(60, 64, 67, 0.15);\n",
              "    fill: #174EA6;\n",
              "  }\n",
              "\n",
              "  [theme=dark] .colab-df-quickchart {\n",
              "    background-color: #3B4455;\n",
              "    fill: #D2E3FC;\n",
              "  }\n",
              "\n",
              "  [theme=dark] .colab-df-quickchart:hover {\n",
              "    background-color: #434B5C;\n",
              "    box-shadow: 0px 1px 3px 1px rgba(0, 0, 0, 0.15);\n",
              "    filter: drop-shadow(0px 1px 2px rgba(0, 0, 0, 0.3));\n",
              "    fill: #FFFFFF;\n",
              "  }\n",
              "</style>\n",
              "\n",
              "    <script>\n",
              "      async function quickchart(key) {\n",
              "        const containerElement = document.querySelector('#' + key);\n",
              "        const charts = await google.colab.kernel.invokeFunction(\n",
              "            'suggestCharts', [key], {});\n",
              "      }\n",
              "    </script>\n",
              "\n",
              "      <script>\n",
              "\n",
              "function displayQuickchartButton(domScope) {\n",
              "  let quickchartButtonEl =\n",
              "    domScope.querySelector('#df-682bf0ce-e4aa-4fce-ab9e-fcb0aa9c8cb4 button.colab-df-quickchart');\n",
              "  quickchartButtonEl.style.display =\n",
              "    google.colab.kernel.accessAllowed ? 'block' : 'none';\n",
              "}\n",
              "\n",
              "        displayQuickchartButton(document);\n",
              "      </script>\n",
              "      <style>\n",
              "    .colab-df-container {\n",
              "      display:flex;\n",
              "      flex-wrap:wrap;\n",
              "      gap: 12px;\n",
              "    }\n",
              "\n",
              "    .colab-df-convert {\n",
              "      background-color: #E8F0FE;\n",
              "      border: none;\n",
              "      border-radius: 50%;\n",
              "      cursor: pointer;\n",
              "      display: none;\n",
              "      fill: #1967D2;\n",
              "      height: 32px;\n",
              "      padding: 0 0 0 0;\n",
              "      width: 32px;\n",
              "    }\n",
              "\n",
              "    .colab-df-convert:hover {\n",
              "      background-color: #E2EBFA;\n",
              "      box-shadow: 0px 1px 2px rgba(60, 64, 67, 0.3), 0px 1px 3px 1px rgba(60, 64, 67, 0.15);\n",
              "      fill: #174EA6;\n",
              "    }\n",
              "\n",
              "    [theme=dark] .colab-df-convert {\n",
              "      background-color: #3B4455;\n",
              "      fill: #D2E3FC;\n",
              "    }\n",
              "\n",
              "    [theme=dark] .colab-df-convert:hover {\n",
              "      background-color: #434B5C;\n",
              "      box-shadow: 0px 1px 3px 1px rgba(0, 0, 0, 0.15);\n",
              "      filter: drop-shadow(0px 1px 2px rgba(0, 0, 0, 0.3));\n",
              "      fill: #FFFFFF;\n",
              "    }\n",
              "  </style>\n",
              "\n",
              "      <script>\n",
              "        const buttonEl =\n",
              "          document.querySelector('#df-bc3f10eb-b827-49e4-9eb8-ccd914fb4de3 button.colab-df-convert');\n",
              "        buttonEl.style.display =\n",
              "          google.colab.kernel.accessAllowed ? 'block' : 'none';\n",
              "\n",
              "        async function convertToInteractive(key) {\n",
              "          const element = document.querySelector('#df-bc3f10eb-b827-49e4-9eb8-ccd914fb4de3');\n",
              "          const dataTable =\n",
              "            await google.colab.kernel.invokeFunction('convertToInteractive',\n",
              "                                                     [key], {});\n",
              "          if (!dataTable) return;\n",
              "\n",
              "          const docLinkHtml = 'Like what you see? Visit the ' +\n",
              "            '<a target=\"_blank\" href=https://colab.research.google.com/notebooks/data_table.ipynb>data table notebook</a>'\n",
              "            + ' to learn more about interactive tables.';\n",
              "          element.innerHTML = '';\n",
              "          dataTable['output_type'] = 'display_data';\n",
              "          await google.colab.output.renderOutput(dataTable, element);\n",
              "          const docLink = document.createElement('div');\n",
              "          docLink.innerHTML = docLinkHtml;\n",
              "          element.appendChild(docLink);\n",
              "        }\n",
              "      </script>\n",
              "    </div>\n",
              "  </div>\n"
            ],
            "text/plain": [
              "           Ref                Status  \\\n",
              "0  T1.23963030                  Open   \n",
              "1  T116412.200                Closed   \n",
              "2   T141663.27  EHS Good Observation   \n",
              "\n",
              "                                            Location  \\\n",
              "0  JPC Project Management>EHS Management>01 Inspe...   \n",
              "1  QC & BC(A)R>ITP 02 Architectural & M&E Service...   \n",
              "2  JPC Project Management>EHS Management>01 Inspe...   \n",
              "\n",
              "                                         Description     Created  Target  \\\n",
              "0  task raised in incorrect location of this form...  14/09/2020     NaN   \n",
              "1                                             Metsec  14/09/2020     NaN   \n",
              "2  Good clear exclusion zones and access through ...  14/09/2020     NaN   \n",
              "\n",
              "                                       Type             To Package  \\\n",
              "0     Safety Notice (Amber) - General Issue        Main Contractor   \n",
              "1                      JPC - Progress Photo  Ceilings & Partitions   \n",
              "2  Safety Notice (Green) - Good Observation        Main Contractor   \n",
              "\n",
              "  Status Changed Association  OverDue Images Comments Documents  \\\n",
              "0     14/09/2020  FormAnswer    False    NaN      NaN       NaN   \n",
              "1     14/09/2020         NaN    False   True    False     False   \n",
              "2     14/09/2020  FormAnswer    False   True    False     False   \n",
              "\n",
              "              Priority                         Cause  project Report Status  \\\n",
              "0  Behavioural Failure  JPC - Safety - Documentation     1328          Open   \n",
              "1                  NaN                           NaN     1328        Closed   \n",
              "2                  NaN         JPC - Safety - Access     1328        Closed   \n",
              "\n",
              "        Task Group  \n",
              "0           Safety  \n",
              "1  Site Management  \n",
              "2           Safety  "
            ]
          },
          "execution_count": 9,
          "metadata": {},
          "output_type": "execute_result"
        }
      ],
      "source": [
        "data_tasks.head(3)"
      ]
    },
    {
      "cell_type": "code",
      "execution_count": null,
      "metadata": {
        "colab": {
          "base_uri": "https://localhost:8080/",
          "height": 555
        },
        "id": "2HKqLmf7Cr7o",
        "outputId": "2ec3d25b-f521-44c1-d256-93b2a9fa704e"
      },
      "outputs": [
        {
          "data": {
            "text/html": [
              "\n",
              "\n",
              "  <div id=\"df-6bea7dc9-4d13-43ae-9a67-e5c201c6ccab\">\n",
              "    <div class=\"colab-df-container\">\n",
              "      <div>\n",
              "<style scoped>\n",
              "    .dataframe tbody tr th:only-of-type {\n",
              "        vertical-align: middle;\n",
              "    }\n",
              "\n",
              "    .dataframe tbody tr th {\n",
              "        vertical-align: top;\n",
              "    }\n",
              "\n",
              "    .dataframe thead th {\n",
              "        text-align: right;\n",
              "    }\n",
              "</style>\n",
              "<table border=\"1\" class=\"dataframe\">\n",
              "  <thead>\n",
              "    <tr style=\"text-align: right;\">\n",
              "      <th></th>\n",
              "      <th>Ref</th>\n",
              "      <th>Status</th>\n",
              "      <th>Location</th>\n",
              "      <th>Name</th>\n",
              "      <th>Created</th>\n",
              "      <th>Type</th>\n",
              "      <th>Status Changed</th>\n",
              "      <th>Open Actions</th>\n",
              "      <th>Total Actions</th>\n",
              "      <th>Association</th>\n",
              "      <th>OverDue</th>\n",
              "      <th>Images</th>\n",
              "      <th>Comments</th>\n",
              "      <th>Documents</th>\n",
              "      <th>Project</th>\n",
              "      <th>Report Forms Status</th>\n",
              "      <th>Report Forms Group</th>\n",
              "    </tr>\n",
              "  </thead>\n",
              "  <tbody>\n",
              "    <tr>\n",
              "      <th>0</th>\n",
              "      <td>F145185.4</td>\n",
              "      <td>Opened</td>\n",
              "      <td>01 Daily Site Diary&gt;Site Management&gt;JPC Projec...</td>\n",
              "      <td>1328 CM-SM-FRM-001 Site Diary</td>\n",
              "      <td>15/09/2020</td>\n",
              "      <td>Site Management</td>\n",
              "      <td>15/09/2020</td>\n",
              "      <td>0</td>\n",
              "      <td>0</td>\n",
              "      <td>NaN</td>\n",
              "      <td>False</td>\n",
              "      <td>True</td>\n",
              "      <td>False</td>\n",
              "      <td>False</td>\n",
              "      <td>1328</td>\n",
              "      <td>Open</td>\n",
              "      <td>Site Management</td>\n",
              "    </tr>\n",
              "    <tr>\n",
              "      <th>1</th>\n",
              "      <td>F1.495500</td>\n",
              "      <td>Open / Ongoing Works</td>\n",
              "      <td>02 Daily Work Plan&gt;Site Management&gt;JPC Project...</td>\n",
              "      <td>SM-FRM-SUB-101 Daily Work Plan</td>\n",
              "      <td>15/09/2020</td>\n",
              "      <td>Subcontractor Inspections</td>\n",
              "      <td>15/09/2020</td>\n",
              "      <td>0</td>\n",
              "      <td>0</td>\n",
              "      <td>NaN</td>\n",
              "      <td>False</td>\n",
              "      <td>False</td>\n",
              "      <td>False</td>\n",
              "      <td>False</td>\n",
              "      <td>1328</td>\n",
              "      <td>Open</td>\n",
              "      <td>Subcontractor</td>\n",
              "    </tr>\n",
              "    <tr>\n",
              "      <th>2</th>\n",
              "      <td>F1.495499</td>\n",
              "      <td>Open / Ongoing Works</td>\n",
              "      <td>02 Daily Work Plan&gt;Site Management&gt;JPC Project...</td>\n",
              "      <td>SM-FRM-SUB-101 Daily Work Plan</td>\n",
              "      <td>15/09/2020</td>\n",
              "      <td>Subcontractor Inspections</td>\n",
              "      <td>15/09/2020</td>\n",
              "      <td>0</td>\n",
              "      <td>0</td>\n",
              "      <td>NaN</td>\n",
              "      <td>False</td>\n",
              "      <td>False</td>\n",
              "      <td>False</td>\n",
              "      <td>False</td>\n",
              "      <td>1328</td>\n",
              "      <td>Open</td>\n",
              "      <td>Subcontractor</td>\n",
              "    </tr>\n",
              "  </tbody>\n",
              "</table>\n",
              "</div>\n",
              "      <button class=\"colab-df-convert\" onclick=\"convertToInteractive('df-6bea7dc9-4d13-43ae-9a67-e5c201c6ccab')\"\n",
              "              title=\"Convert this dataframe to an interactive table.\"\n",
              "              style=\"display:none;\">\n",
              "\n",
              "  <svg xmlns=\"http://www.w3.org/2000/svg\" height=\"24px\"viewBox=\"0 0 24 24\"\n",
              "       width=\"24px\">\n",
              "    <path d=\"M0 0h24v24H0V0z\" fill=\"none\"/>\n",
              "    <path d=\"M18.56 5.44l.94 2.06.94-2.06 2.06-.94-2.06-.94-.94-2.06-.94 2.06-2.06.94zm-11 1L8.5 8.5l.94-2.06 2.06-.94-2.06-.94L8.5 2.5l-.94 2.06-2.06.94zm10 10l.94 2.06.94-2.06 2.06-.94-2.06-.94-.94-2.06-.94 2.06-2.06.94z\"/><path d=\"M17.41 7.96l-1.37-1.37c-.4-.4-.92-.59-1.43-.59-.52 0-1.04.2-1.43.59L10.3 9.45l-7.72 7.72c-.78.78-.78 2.05 0 2.83L4 21.41c.39.39.9.59 1.41.59.51 0 1.02-.2 1.41-.59l7.78-7.78 2.81-2.81c.8-.78.8-2.07 0-2.86zM5.41 20L4 18.59l7.72-7.72 1.47 1.35L5.41 20z\"/>\n",
              "  </svg>\n",
              "      </button>\n",
              "\n",
              "\n",
              "\n",
              "    <div id=\"df-545ae50e-395a-42b6-b489-78830dd2a17a\">\n",
              "      <button class=\"colab-df-quickchart\" onclick=\"quickchart('df-545ae50e-395a-42b6-b489-78830dd2a17a')\"\n",
              "              title=\"Suggest charts.\"\n",
              "              style=\"display:none;\">\n",
              "\n",
              "<svg xmlns=\"http://www.w3.org/2000/svg\" height=\"24px\"viewBox=\"0 0 24 24\"\n",
              "     width=\"24px\">\n",
              "    <g>\n",
              "        <path d=\"M19 3H5c-1.1 0-2 .9-2 2v14c0 1.1.9 2 2 2h14c1.1 0 2-.9 2-2V5c0-1.1-.9-2-2-2zM9 17H7v-7h2v7zm4 0h-2V7h2v10zm4 0h-2v-4h2v4z\"/>\n",
              "    </g>\n",
              "</svg>\n",
              "      </button>\n",
              "    </div>\n",
              "\n",
              "<style>\n",
              "  .colab-df-quickchart {\n",
              "    background-color: #E8F0FE;\n",
              "    border: none;\n",
              "    border-radius: 50%;\n",
              "    cursor: pointer;\n",
              "    display: none;\n",
              "    fill: #1967D2;\n",
              "    height: 32px;\n",
              "    padding: 0 0 0 0;\n",
              "    width: 32px;\n",
              "  }\n",
              "\n",
              "  .colab-df-quickchart:hover {\n",
              "    background-color: #E2EBFA;\n",
              "    box-shadow: 0px 1px 2px rgba(60, 64, 67, 0.3), 0px 1px 3px 1px rgba(60, 64, 67, 0.15);\n",
              "    fill: #174EA6;\n",
              "  }\n",
              "\n",
              "  [theme=dark] .colab-df-quickchart {\n",
              "    background-color: #3B4455;\n",
              "    fill: #D2E3FC;\n",
              "  }\n",
              "\n",
              "  [theme=dark] .colab-df-quickchart:hover {\n",
              "    background-color: #434B5C;\n",
              "    box-shadow: 0px 1px 3px 1px rgba(0, 0, 0, 0.15);\n",
              "    filter: drop-shadow(0px 1px 2px rgba(0, 0, 0, 0.3));\n",
              "    fill: #FFFFFF;\n",
              "  }\n",
              "</style>\n",
              "\n",
              "    <script>\n",
              "      async function quickchart(key) {\n",
              "        const containerElement = document.querySelector('#' + key);\n",
              "        const charts = await google.colab.kernel.invokeFunction(\n",
              "            'suggestCharts', [key], {});\n",
              "      }\n",
              "    </script>\n",
              "\n",
              "      <script>\n",
              "\n",
              "function displayQuickchartButton(domScope) {\n",
              "  let quickchartButtonEl =\n",
              "    domScope.querySelector('#df-545ae50e-395a-42b6-b489-78830dd2a17a button.colab-df-quickchart');\n",
              "  quickchartButtonEl.style.display =\n",
              "    google.colab.kernel.accessAllowed ? 'block' : 'none';\n",
              "}\n",
              "\n",
              "        displayQuickchartButton(document);\n",
              "      </script>\n",
              "      <style>\n",
              "    .colab-df-container {\n",
              "      display:flex;\n",
              "      flex-wrap:wrap;\n",
              "      gap: 12px;\n",
              "    }\n",
              "\n",
              "    .colab-df-convert {\n",
              "      background-color: #E8F0FE;\n",
              "      border: none;\n",
              "      border-radius: 50%;\n",
              "      cursor: pointer;\n",
              "      display: none;\n",
              "      fill: #1967D2;\n",
              "      height: 32px;\n",
              "      padding: 0 0 0 0;\n",
              "      width: 32px;\n",
              "    }\n",
              "\n",
              "    .colab-df-convert:hover {\n",
              "      background-color: #E2EBFA;\n",
              "      box-shadow: 0px 1px 2px rgba(60, 64, 67, 0.3), 0px 1px 3px 1px rgba(60, 64, 67, 0.15);\n",
              "      fill: #174EA6;\n",
              "    }\n",
              "\n",
              "    [theme=dark] .colab-df-convert {\n",
              "      background-color: #3B4455;\n",
              "      fill: #D2E3FC;\n",
              "    }\n",
              "\n",
              "    [theme=dark] .colab-df-convert:hover {\n",
              "      background-color: #434B5C;\n",
              "      box-shadow: 0px 1px 3px 1px rgba(0, 0, 0, 0.15);\n",
              "      filter: drop-shadow(0px 1px 2px rgba(0, 0, 0, 0.3));\n",
              "      fill: #FFFFFF;\n",
              "    }\n",
              "  </style>\n",
              "\n",
              "      <script>\n",
              "        const buttonEl =\n",
              "          document.querySelector('#df-6bea7dc9-4d13-43ae-9a67-e5c201c6ccab button.colab-df-convert');\n",
              "        buttonEl.style.display =\n",
              "          google.colab.kernel.accessAllowed ? 'block' : 'none';\n",
              "\n",
              "        async function convertToInteractive(key) {\n",
              "          const element = document.querySelector('#df-6bea7dc9-4d13-43ae-9a67-e5c201c6ccab');\n",
              "          const dataTable =\n",
              "            await google.colab.kernel.invokeFunction('convertToInteractive',\n",
              "                                                     [key], {});\n",
              "          if (!dataTable) return;\n",
              "\n",
              "          const docLinkHtml = 'Like what you see? Visit the ' +\n",
              "            '<a target=\"_blank\" href=https://colab.research.google.com/notebooks/data_table.ipynb>data table notebook</a>'\n",
              "            + ' to learn more about interactive tables.';\n",
              "          element.innerHTML = '';\n",
              "          dataTable['output_type'] = 'display_data';\n",
              "          await google.colab.output.renderOutput(dataTable, element);\n",
              "          const docLink = document.createElement('div');\n",
              "          docLink.innerHTML = docLinkHtml;\n",
              "          element.appendChild(docLink);\n",
              "        }\n",
              "      </script>\n",
              "    </div>\n",
              "  </div>\n"
            ],
            "text/plain": [
              "         Ref                Status  \\\n",
              "0  F145185.4                Opened   \n",
              "1  F1.495500  Open / Ongoing Works   \n",
              "2  F1.495499  Open / Ongoing Works   \n",
              "\n",
              "                                            Location  \\\n",
              "0  01 Daily Site Diary>Site Management>JPC Projec...   \n",
              "1  02 Daily Work Plan>Site Management>JPC Project...   \n",
              "2  02 Daily Work Plan>Site Management>JPC Project...   \n",
              "\n",
              "                             Name     Created                       Type  \\\n",
              "0   1328 CM-SM-FRM-001 Site Diary  15/09/2020            Site Management   \n",
              "1  SM-FRM-SUB-101 Daily Work Plan  15/09/2020  Subcontractor Inspections   \n",
              "2  SM-FRM-SUB-101 Daily Work Plan  15/09/2020  Subcontractor Inspections   \n",
              "\n",
              "  Status Changed  Open Actions  Total Actions Association  OverDue  Images  \\\n",
              "0     15/09/2020             0              0         NaN    False    True   \n",
              "1     15/09/2020             0              0         NaN    False   False   \n",
              "2     15/09/2020             0              0         NaN    False   False   \n",
              "\n",
              "   Comments Documents  Project Report Forms Status Report Forms Group  \n",
              "0     False     False     1328                Open    Site Management  \n",
              "1     False     False     1328                Open      Subcontractor  \n",
              "2     False     False     1328                Open      Subcontractor  "
            ]
          },
          "execution_count": 11,
          "metadata": {},
          "output_type": "execute_result"
        }
      ],
      "source": [
        "data_forms.head(3)"
      ]
    },
    {
      "cell_type": "markdown",
      "metadata": {
        "id": "ODiNSWOBdC7b"
      },
      "source": [
        "# Visualizando os valores únicos em cada coluna dos conjuntos de dados"
      ]
    },
    {
      "cell_type": "code",
      "execution_count": 7,
      "metadata": {},
      "outputs": [
        {
          "name": "stdout",
          "output_type": "stream",
          "text": [
            "Ref                    9858\n",
            "Status                   26\n",
            "Location                814\n",
            "Name                    125\n",
            "Created                 433\n",
            "Type                     13\n",
            "Status Changed          349\n",
            "Open Actions             14\n",
            "Total Actions            32\n",
            "Association               2\n",
            "OverDue                   1\n",
            "Images                    2\n",
            "Comments                  2\n",
            "Documents                 2\n",
            "Project                   8\n",
            "Report Forms Status       2\n",
            "Report Forms Group        5\n",
            "dtype: int64\n"
          ]
        }
      ],
      "source": [
        "print(data_forms.nunique())\n"
      ]
    },
    {
      "cell_type": "code",
      "execution_count": 8,
      "metadata": {},
      "outputs": [
        {
          "name": "stdout",
          "output_type": "stream",
          "text": [
            "Ref               12118\n",
            "Status               16\n",
            "Location            594\n",
            "Description       10268\n",
            "Created             351\n",
            "Target              255\n",
            "Type                 37\n",
            "To Package          105\n",
            "Status Changed      361\n",
            "Association           3\n",
            "OverDue               2\n",
            "Images                2\n",
            "Comments              2\n",
            "Documents             2\n",
            "Priority             14\n",
            "Cause                47\n",
            "project               8\n",
            "Report Status         2\n",
            "Task Group            4\n",
            "dtype: int64\n"
          ]
        }
      ],
      "source": [
        "print(data_tasks.nunique())"
      ]
    },
    {
      "cell_type": "markdown",
      "metadata": {
        "id": "570g8qMoG1Ia"
      },
      "source": [
        "## Teorias sobre as bases"
      ]
    },
    {
      "cell_type": "code",
      "execution_count": null,
      "metadata": {
        "colab": {
          "base_uri": "https://localhost:8080/"
        },
        "id": "nHrFhyfBInWA",
        "outputId": "1f924d53-6c71-4644-bb4c-c400f67bedf8"
      },
      "outputs": [
        {
          "data": {
            "text/plain": [
              "JPC Project Management>EHS Management>01 Inspections           2029\n",
              "JPC Project Management>EHS Forms>01 Inspections                1949\n",
              "JPC Project Management>EHS Inspections                         1317\n",
              "JPC Project Management>EHS Management>EHS Inspections           737\n",
              "1328 - Townsend St                                              727\n",
              "JPC Project Management>EHS Inspections & Assessments            409\n",
              "Site Logistics, Access & Deliveries>Main Site Set Up Plan       388\n",
              "JPC Project Management>Site Management                          258\n",
              "JPC Project Management                                          256\n",
              "JPC Project Management>EHS Management                           241\n",
              "JPC Project Management>Daily Site Diary & Allocation Sheets     240\n",
              "JPC Project Management>EHS Forms                                167\n",
              "1330 - Regeneron Building 19                                    129\n",
              "1345 - DUB062 Project                                           111\n",
              "1329 - 19-22 Kildare Street                                      88\n",
              "QC & BC(A)R>ITP 01 Structural>Block 3>Ground Floor Plan          61\n",
              "JPC Project Management>EHS Management>03 Safety Notices          58\n",
              "Site Logistics Plan                                              52\n",
              "1338 - Kildare Village                                           52\n",
              "1343 - Project ABC                                               48\n",
              "Name: Location, dtype: int64"
            ]
          },
          "execution_count": 25,
          "metadata": {},
          "output_type": "execute_result"
        }
      ],
      "source": [
        "data_tasks['Location'].value_counts()[:20]"
      ]
    },
    {
      "cell_type": "code",
      "execution_count": null,
      "metadata": {
        "colab": {
          "base_uri": "https://localhost:8080/"
        },
        "id": "83AhdcQsHOOV",
        "outputId": "90e9951c-e0b6-47f5-8d87-fab7a2349df9"
      },
      "outputs": [
        {
          "data": {
            "text/plain": [
              "Damage to reveals /walls pm walk     86\n",
              "housekeeping                         74\n",
              "Housekeeping                         59\n",
              "Housekeeping                         37\n",
              "Observation                          30\n",
              "Ceilings ready for closing           24\n",
              "Damage pm walk                       24\n",
              "no access                            23\n",
              "Steel Being Erected                  21\n",
              "Housekeeping to improve              21\n",
              "fill bolt holes                      20\n",
              "material storage                     19\n",
              "Fire seal complete.                  18\n",
              "Good exclusion zone                  17\n",
              "Wall damage                          17\n",
              "Damage to wall at low level          17\n",
              "Good exclusion zone                  17\n",
              "Wall damaged at low level            16\n",
              "exclusion zone                       15\n",
              "Bulk dig                             14\n",
              "Fire stopping complete               14\n",
              "Good exclusion zone maintained       13\n",
              "Good safe working practice           13\n",
              "house keeping                        13\n",
              "Substation 7 & 8                     13\n",
              "Walls ready                          12\n",
              "Poor housekeeping                    12\n",
              "Sub station 5 & 6                    12\n",
              "Good housekeeping                    12\n",
              "repair/rubbing up mortar concrete    12\n",
              "Name: Description, dtype: int64"
            ]
          },
          "execution_count": 42,
          "metadata": {},
          "output_type": "execute_result"
        }
      ],
      "source": [
        "data_tasks['Description'].value_counts()[:30]"
      ]
    },
    {
      "cell_type": "code",
      "execution_count": null,
      "metadata": {
        "colab": {
          "base_uri": "https://localhost:8080/"
        },
        "id": "BdbDYxtrFszL",
        "outputId": "cd52fc95-94d8-4cb4-9f95-4d7235339aec"
      },
      "outputs": [
        {
          "data": {
            "text/plain": [
              "01 Daily Site Diary>Site Management>JPC Project Management                 1346\n",
              "EHS Inspections>JPC Project Management                                      608\n",
              "Daily Site Diary & Allocation Sheets>JPC Project Management                 581\n",
              "02 Daily Work Plan>Site Management>JPC Project Management                   446\n",
              "01 Inspections>EHS Management>JPC Project Management                        377\n",
              "01 Inspections>EHS Forms>JPC Project Management                             297\n",
              "Site Management>JPC Project Management                                      279\n",
              "1328 - Townsend St                                                          225\n",
              "04 Progress Photos>Site Management>JPC Project Management                   216\n",
              "EHS Inspections>EHS Management>JPC Project Management                       182\n",
              "JPC Project Management                                                      167\n",
              "QC Training Records>Quality Management>JPC Project Management               163\n",
              "1330 - Regeneron Building 19                                                160\n",
              "1329 - 19-22 Kildare Street                                                 153\n",
              "Daily Site Diary>Site Management>JPC Project Management                     138\n",
              "Access & Deliveries>Site Logistics, Access & Deliveries                     119\n",
              "04 Staturatury Forms>EHS Management>JPC Project Management                  114\n",
              "1335 - Adare Manor GAB                                                       90\n",
              "Lvl-01 Basement>New Building>ITP 01 Structural>Quality Control & BC(A)R      90\n",
              "Ground Floor Plan>Block 3>ITP 01 Structural>QC & BC(A)R                      89\n",
              "Name: Location, dtype: int64"
            ]
          },
          "execution_count": 28,
          "metadata": {},
          "output_type": "execute_result"
        }
      ],
      "source": [
        "data_forms['Location'].value_counts()[:20]"
      ]
    },
    {
      "cell_type": "markdown",
      "metadata": {
        "id": "xnSK3mSsJWEx"
      },
      "source": [
        "Os itens descritivos das bases podem dar uma ideia de que as bases trazem dados que acompanham projetos que envolvem infraestrutura em locais de arquitetura, construções de estradas, etc.\n",
        "\n",
        "É também feita a avaliação das etapas do projeto, descritas na coluna Description."
      ]
    },
    {
      "cell_type": "code",
      "execution_count": null,
      "metadata": {
        "colab": {
          "base_uri": "https://localhost:8080/"
        },
        "id": "2Q4BY7_CCr5V",
        "outputId": "8a2a014d-3b44-4a5f-ce24-a8415bfebce3"
      },
      "outputs": [
        {
          "name": "stdout",
          "output_type": "stream",
          "text": [
            "IDs não relacionados: set() set()\n"
          ]
        }
      ],
      "source": [
        "project_ids_data_forms = set(data_forms[\"Project\"])\n",
        "project_ids_data_tasks = set(data_tasks[\"project\"])\n",
        "\n",
        "ids_data_forms_not_in_tasks = project_ids_data_forms.difference(project_ids_data_tasks)\n",
        "ids_data_tasks_not_in_forms = project_ids_data_tasks.difference(project_ids_data_forms)\n",
        "\n",
        "print(\"IDs não relacionados:\", ids_data_forms_not_in_tasks, ids_data_tasks_not_in_forms)"
      ]
    },
    {
      "cell_type": "markdown",
      "metadata": {
        "id": "SnwHQtYYMYVx"
      },
      "source": [
        "Os IDs de projetos podem ser uma forma de relação entre as tabelas, já que ambas contém todos os IDs.\n",
        "\n",
        "Alguns IDs estão duplicados e iniciam por letras, então foi necessário limpar os duplicados. Depois da limpeza, seguirmos com a ordem dos IDs e criar um valor único para cada Ref.\n",
        "\n",
        "Alguns Ids de forms não referenciam aos Ids de tasks, então, alguns ficarão sem relacionar na união."
      ]
    },
    {
      "cell_type": "markdown",
      "metadata": {
        "id": "49eFSmVhNGPy"
      },
      "source": [
        "### O que representam os dados?\n",
        "\n",
        "A partir de uma análise de cada coluna é possível entender que elas representam:\n",
        "\n",
        "#### Arquivo construction_data_forms.csv\n",
        "\n",
        "- Ref: O identificador exclusivo da tarefa.\n",
        "- Status: O status atual da tarefa.\n",
        "- Localização: A localização da tarefa no projeto.\n",
        "- Nome: O nome da tarefa.\n",
        "- Criado: A data e hora em que a tarefa foi criada.\n",
        "- Tipo: O tipo de tarefa, como um plano de trabalho diário ou um diário de site.\n",
        "- Status alterado: A data e hora em que o status da tarefa foi alterado pela última vez.\n",
        "- Ações abertas: O número de ações abertas associadas à tarefa.\n",
        "- Ações totais: O número total de ações associadas à tarefa.\n",
        "- Associação: A associação entre a tarefa e outra entidade, como um documento ou uma tarefa.\n",
        "- Atrasado: Se a tarefa está atrasada.\n",
        "- Imagens: O número de imagens associadas à tarefa.\n",
        "- Comentários: O número de comentários associados à tarefa.\n",
        "- Documentos: O número de documentos associados à tarefa.\n",
        "- Projeto: O projeto ao qual a tarefa pertence.\n",
        "- Status do formulário de relatório: O status do formulário de relatório no sistema de relatórios.\n",
        "- Grupo de formulários de relatório: O grupo de formulários de relatório ao qual a tarefa pertence.\n",
        "\n",
        "\n",
        "#### Arquivo construction_data_tasks.csv\n",
        "\n",
        "- Ref: O identificador exclusivo da tarefa.\n",
        "- Status: O status atual da tarefa.\n",
        "- Localização: A localização da tarefa no projeto.\n",
        "- Descrição: Uma breve descrição da tarefa.\n",
        "- Criado: A data e hora em que a tarefa foi criada.\n",
        "- Alvo: A pessoa ou equipe responsável por concluir a tarefa.\n",
        "- Tipo: O tipo de tarefa, como um aviso de segurança ou uma foto de progresso.\n",
        "- Para o pacote: O pacote ao qual a tarefa pertence.\n",
        "- Status alterado: A data e hora em que o status da tarefa foi alterado pela última vez.\n",
        "- Associação: A associação entre a tarefa e outra entidade, como uma resposta de formulário ou um documento.\n",
        "- Atrasado: Se a tarefa está atrasada.\n",
        "- Imagens: O número de imagens associadas à tarefa.\n",
        "- Comentários: O número de comentários associados à tarefa.\n",
        "- Documentos: O número de documentos associados à tarefa.\n",
        "- Prioridade: A prioridade da tarefa.\n",
        "- Causa: A causa da tarefa, como uma falha comportamental ou uma falha do sistema.\n",
        "- Projeto: O projeto ao qual a tarefa pertence.\n",
        "- Status do relatório: O status da tarefa no sistema de relatórios.\n",
        "- Grupo de tarefas: O grupo de tarefas ao qual a tarefa pertence.\n"
      ]
    },
    {
      "cell_type": "markdown",
      "metadata": {
        "id": "jzAPEf11OY4R"
      },
      "source": [
        "---"
      ]
    },
    {
      "cell_type": "markdown",
      "metadata": {},
      "source": [
        "## Data Cleaning - Descrição\n",
        "\n",
        "- Se fosse para criar um modelo de máquina ou um modelo estatístico, faria sentido realizar um balanceamento dos dados para aplicar nesses modelos, mesmo que seja uma análise, os dados faltantes foram preenchidos e os duplicados foram removidos.\n",
        "- Posteriormente, esses datasets podem ser usados para criação de modelos.\n",
        "- O tratamento dos dados foram feitos pelo Google Sheets, pois a criação do dashboard se dará pelo Looker Studio.\n"
      ]
    },
    {
      "cell_type": "markdown",
      "metadata": {},
      "source": [
        "---"
      ]
    },
    {
      "cell_type": "markdown",
      "metadata": {},
      "source": [
        "## Data Cleaning - Google Sheets\n",
        "\n",
        "### Data Tasks\n",
        "#### Colunas apagadas - não são relevantes para análise\n",
        "- Target\n",
        "- Type\n",
        "- To package\n",
        "- Association\n",
        "- Overdue\n",
        "- Images\n",
        "- Comments\n",
        "- Documents\n",
        "\n",
        "#### Coluna `Priority`\n",
        "`Behavioral Failure` é a mais aplicada na coluna Priority. As tarefas associadas a esta categoria referem-se a Segurança.\n",
        "Então, foram preenchidas as linhas referentes a segurança com `Behavioral Failure`. Os outros campos, foram preenchidos com 'Other'.\n",
        "Existem outros valores nessa coluna, como: `Medium, High, Best Practice, System Failure e etc.` Esses valores também foram preenchidos com 'Other'.\n",
        "\n",
        "Aqui, é importante frisar que existem N tipos de prioridades e isso dificulta a qualidade dos dados. Uma sugestão é trocar esse campo para uma lista com valores pré-definidos.\n",
        "\n",
        "\n",
        "#### Coluna `Cause`\n",
        "Essa coluna contém alguns valores ausentes, pode ser que não tenham sido gravados. Os valores existentes nesta coluna incluem 'Documentação de segurança', 'Manutenção doméstica' ou 'fábrica e equipamento'. É justo dizer que os valores ausentes simplesmente não foram registrados e da mesma forma, podemos preenchê-los com 'Other'.\n",
        "\n",
        "Olhando a coluna `Task group` e `To package`, foi possível identificar a maioria das 'causas' nessas tarefas. Então, o justo foi preencher conforme deduzido de acordo com essas colunas, invés de ter preenchido com 'Other', foi preenchido com 'JPC - Safety - House Keeping'.\n",
        "\n",
        "\n",
        "\n",
        "\n",
        "### Data Forms\n",
        "#### Colunas apagadas - não são relevantes para análise\n",
        "- Type\n",
        "- Open Actions\n",
        "- Total Actions\n",
        "- Association\n",
        "- Overdue\n",
        "- Images\n",
        "- Comments\n",
        "- Documents\n",
        "\n",
        "#### Coluna `Report Forms Group`\n",
        "Essa coluna tinha apenas 4 linhas em branco, foi preenchido com o valor 'Safety', pois fazia sentido ao analisar o restante do dataset.\n",
        "\n"
      ]
    },
    {
      "cell_type": "markdown",
      "metadata": {},
      "source": [
        "---"
      ]
    },
    {
      "cell_type": "markdown",
      "metadata": {
        "id": "YsF04vK_R4Kr"
      },
      "source": [
        "## Estudos\n",
        "\n",
        "### Tasks\n",
        "- Quantas tasks foram feitas por projeto (`data_tasks[percentual]`)\n",
        "- Quantas tasks foram feitas por grupos (`data_tasks[task group]`)\n",
        "- Média de tempo de atualização de tasks no projeto (`avg das colunas created e status changed | task group`)\n",
        "- Distribuição de tarefas finalizadas e não finalizadas (`data_tasks['Report Status']`)\n",
        "- Quantidade de tarefas no projeto por task group (`data_tasks[task group]`)\n",
        "\n",
        "### Forms\n",
        "- Quantos forms foram feitos por projeto (`data_forms[percentual]`)\n",
        "- Quantos forms foram feitos por grupos (`data_forms[report forms group]`)\n",
        "- Média de tempo de atualização de forms no projeto (`avg das colunas created e status changed | forms group`)\n",
        "- Distribuição de forms finalizados e não finalizados (`data_forms['Report forms Status']`)\n",
        "- Quantidade de forms no projeto por forms group (`data_forms[forms group]`)"
      ]
    },
    {
      "cell_type": "markdown",
      "metadata": {
        "id": "78TW1l4NCnrm"
      },
      "source": [
        "---"
      ]
    },
    {
      "cell_type": "markdown",
      "metadata": {
        "id": "w__jjGAmdC7c"
      },
      "source": [
        "<h3>Visualizando um gráfico de barras do status das tarefas</h3>"
      ]
    },
    {
      "cell_type": "code",
      "execution_count": 14,
      "metadata": {
        "colab": {
          "base_uri": "https://localhost:8080/",
          "height": 687
        },
        "id": "btYusxrUdC7c",
        "outputId": "b735f056-8500-4e9c-c59b-dec5c5f18b0e"
      },
      "outputs": [
        {
          "data": {
            "image/png": "[encoded data removed]",
            "text/plain": [
              "<Figure size 640x480 with 1 Axes>"
            ]
          },
          "metadata": {},
          "output_type": "display_data"
        }
      ],
      "source": [
        "status_counts = data_tasks['Status'].value_counts().sort_values(ascending=True)\n",
        "status_labels = status_counts.index\n",
        "\n",
        "plt.barh(status_labels, status_counts)\n",
        "plt.xlabel('Status')\n",
        "plt.ylabel('Contagem')\n",
        "plt.title('Gráfico de barras do status das tarefas')\n",
        "\n",
        "plt.show()"
      ]
    },
    {
      "cell_type": "markdown",
      "metadata": {},
      "source": [
        "- O status mais comum das tarefas é \"Closed\", com 6135 tarefas. \n",
        "- As tarefas mais comuns são \"EHS Good Observation\" e \"3rd Party Sign Off - Closed\", com 3343 e 678 tarefas, respectivamente. Isso significa que a maioria das tarefas estão relacionadas à aprovação de terceiros.\n",
        "- As tarefas com o maior número de ações abertas são \"JPC Sign Off\" e \"JPC Sign Off / Closed\", com 124 e 69 ações, respectivamente. Isso significa que essas tarefas estão exigindo mais atenção do que as outras tarefas.\n",
        "\n",
        "Esses insights podem ser usados para melhorar a eficiência e a eficácia do projeto de construção. Por exemplo, o projeto pode tentar aumentar a eficiência das tarefas concluindo-as mais rapidamente, concentrando-se nas tarefas que estão levando mais tempo para serem concluídas e que têm o maior número de ações abertas.\n",
        "\n",
        "Também é importante notar que o status \"Closed\" não significa necessariamente que a tarefa foi concluída com sucesso. Por exemplo, uma tarefa pode ser fechada se ela foi cancelada ou se ela foi adiada indefinidamente. Portanto, é importante analisar os dados com cuidado para entender o contexto de cada tarefa\n",
        "\n"
      ]
    },
    {
      "cell_type": "markdown",
      "metadata": {
        "id": "NJepYrgAwieT"
      },
      "source": [
        "## Percentual de tarefas abertas em relação a outras tarefas"
      ]
    },
    {
      "cell_type": "code",
      "execution_count": null,
      "metadata": {
        "colab": {
          "base_uri": "https://localhost:8080/"
        },
        "id": "CU_M79cjgCVq",
        "outputId": "484fef69-7029-4720-99b5-b496ebd0f82e"
      },
      "outputs": [
        {
          "name": "stdout",
          "output_type": "stream",
          "text": [
            "4.491307147456536\n"
          ]
        }
      ],
      "source": [
        "open_tasks = data_tasks[data_tasks[\"Status\"] == \"Open\"].count()[\"Status\"]\n",
        "\n",
        "# Get the total number of tasks\n",
        "total_tasks = data_tasks.count()[\"Status\"]\n",
        "\n",
        "# Calculate the percentage of tasks with status \"Open\"\n",
        "open_task_percentage = (open_tasks / total_tasks)*100\n",
        "print(open_task_percentage)"
      ]
    }
  ],
  "metadata": {
    "colab": {
      "provenance": []
    },
    "kernelspec": {
      "display_name": "Python 3",
      "name": "python3"
    },
    "language_info": {
      "codemirror_mode": {
        "name": "ipython",
        "version": 3
      },
      "file_extension": ".py",
      "mimetype": "text/x-python",
      "name": "python",
      "nbconvert_exporter": "python",
      "pygments_lexer": "ipython3",
      "version": "3.8.0"
    }
  },
  "nbformat": 4,
  "nbformat_minor": 0
}
